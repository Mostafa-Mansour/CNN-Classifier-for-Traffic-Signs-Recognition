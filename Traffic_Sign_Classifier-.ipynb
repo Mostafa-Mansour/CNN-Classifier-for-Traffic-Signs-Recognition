{
 "cells": [
  {
   "cell_type": "markdown",
   "metadata": {},
   "source": [
    "## CNN Classifier For Traffic Sign Recognition\n",
    "\n",
    "In this project a Convolutional Neural Network is built for Traffic Signs Recognition.\n",
    "In this project the [German Traffic Signs Dateset](http://benchmark.ini.rub.de/) is used. The Network is trained using a CPU.\n"
   ]
  },
  {
   "cell_type": "markdown",
   "metadata": {},
   "source": [
    "## The following steps have been followed to build this project:\n",
    "\n",
    "#### 1. Load the data and prepare the train, the validation and the test sets.\n",
    "#### 2. Get a statistical summary for the different sets and visulaize some data.\n",
    "#### 3. Design a model architecture for the CNN.\n",
    "#### 4. Train the model using the train data set and validate it using the validation data set.\n",
    "#### 5. Test the final model architecture using the test set.\n",
    "### 6. Testing the final model on new images"
   ]
  },
  {
   "cell_type": "markdown",
   "metadata": {},
   "source": [
    "---\n",
    "### 1. Load the data and prepare the train, the validation and the test sets.\n",
    "The data sets are prepared as follows:\n",
    "* 1.1 Load the data sets with their labels.\n",
    "* 1.2 Converting the images from RGB to Gray scale.\n",
    "* 1.3 Normalizing the images.\n"
   ]
  },
  {
   "cell_type": "code",
   "execution_count": 2,
   "metadata": {
    "collapsed": false
   },
   "outputs": [],
   "source": [
    "# 1.1 Load the data sets with their labels\n",
    "# Load pickled data\n",
    "import pickle\n",
    "import pandas as pd\n",
    "import cv2\n",
    "import numpy as np\n",
    "\n",
    "# Path to the data sets\n",
    "training_file = \"/home/mostafa/Desktop/keras/CNN classifier for Traffic Signs Recognition//traffic-signs-data/train.p\"\n",
    "validation_file=\"/home/mostafa/Desktop/keras/CNN classifier for Traffic Signs Recognition//traffic-signs-data/valid.p\"\n",
    "testing_file = \"/home/mostafa/Desktop/keras/CNN classifier for Traffic Signs Recognition//traffic-signs-data/test.p\"\n",
    "\n",
    "#Load the data sets\n",
    "with open(training_file, mode='rb') as f:\n",
    "    train = pickle.load(f)\n",
    "with open(validation_file, mode='rb') as f:\n",
    "    valid = pickle.load(f)\n",
    "with open(testing_file, mode='rb') as f:\n",
    "    test = pickle.load(f)\n",
    "#Data sets of RGB (32x32x3) images and thier lables    \n",
    "X_trainrgb, y_train = train['features'], train['labels']\n",
    "X_validationrgb, y_validation = valid['features'], valid['labels']\n",
    "X_testrgb, y_test = test['features'], test['labels']\n",
    "\n",
    "\n"
   ]
  },
  {
   "cell_type": "code",
   "execution_count": 3,
   "metadata": {
    "collapsed": false
   },
   "outputs": [],
   "source": [
    "# 1.2 Converting the images from RGB to Gray scale\n",
    "X_train=[]\n",
    "X_validation=[]\n",
    "X_test=[]\n",
    "for item in X_trainrgb:\n",
    "    X_train.append(cv2.cvtColor(item,cv2.COLOR_RGB2GRAY))\n",
    "    \n",
    "for item in X_validationrgb:\n",
    "    X_validation.append(cv2.cvtColor(item,cv2.COLOR_RGB2GRAY))\n",
    "    \n",
    "for item in X_testrgb:\n",
    "    X_test.append(cv2.cvtColor(item,cv2.COLOR_RGB2GRAY))\n",
    "\n",
    "X_train=np.array(X_train)\n",
    "X_train=X_train.reshape(len(X_train),32,32,1)\n",
    "\n",
    "X_validation=np.array(X_validation).reshape((len(X_validation),32,32,1))\n",
    "X_test=np.array(X_test).reshape((len(X_test),32,32,1))"
   ]
  },
  {
   "cell_type": "code",
   "execution_count": 4,
   "metadata": {
    "collapsed": true
   },
   "outputs": [],
   "source": [
    "# 1.3 Normalizing the images\n",
    "X_train=(X_train-np.mean(X_train))/np.std(X_train)\n",
    "X_validation=(X_validation-np.mean(X_validation))/np.std(X_validation)\n",
    "X_test=(X_test-np.mean(X_test))/np.std(X_test)"
   ]
  },
  {
   "cell_type": "markdown",
   "metadata": {},
   "source": [
    "---\n",
    "\n",
    "## 2. Get a statistical summary for the different sets and visualize some data.\n",
    "In the sets we have, we can find that:\n",
    "* Number of training examples = 34799\n",
    "* Number of validation examples = 4410\n",
    "* Number of test examples = 34799\n",
    "* Image shape is (32,32,1)\n",
    "* Number of classes = 43\n",
    "\n"
   ]
  },
  {
   "cell_type": "code",
   "execution_count": 5,
   "metadata": {
    "collapsed": false
   },
   "outputs": [
    {
     "name": "stdout",
     "output_type": "stream",
     "text": [
      "Number of training examples = 34799\n",
      "Number of testing examples = 4410\n",
      "Number of testing examples = 12630\n",
      "Image data shape = (32, 32, 1)\n",
      "Number of classes = 43\n"
     ]
    }
   ],
   "source": [
    "### Use python, pandas or numpy methods rather than hard coding the results\n",
    "\n",
    "# Number of training examples\n",
    "n_train = len(train['features'])\n",
    "\n",
    "# Number of validation examples\n",
    "n_validation = len(valid['features'])\n",
    "\n",
    "# Number of testing examples.\n",
    "n_test = len(test['features'])\n",
    "\n",
    "#The shape of an traffic sign image\n",
    "image_shape = X_train[0,:].shape\n",
    "\n",
    "# classes/labels in the dataset.\n",
    "signs=pd.read_csv(\"./signnames.csv\")\n",
    "\n",
    "n_classes = len(signs)\n",
    "\n",
    "print(\"Number of training examples =\", n_train)\n",
    "print(\"Number of testing examples =\", n_validation)\n",
    "print(\"Number of testing examples =\", n_test)\n",
    "print(\"Image data shape =\", image_shape)\n",
    "print(\"Number of classes =\", n_classes)\n",
    "#print(\"signs shape =\", signs.loc[40][1])"
   ]
  },
  {
   "cell_type": "code",
   "execution_count": 6,
   "metadata": {
    "collapsed": false
   },
   "outputs": [
    {
     "name": "stdout",
     "output_type": "stream",
     "text": [
      "22\n",
      "Bumpy road\n"
     ]
    },
    {
     "data": {
      "image/png": "[encoded data removed]",
      "text/plain": [
       "<matplotlib.figure.Figure at 0x7f9eb8258208>"
      ]
     },
     "metadata": {},
     "output_type": "display_data"
    }
   ],
   "source": [
    "# Visualize Data\n",
    "#View a sample from the dataset.\n",
    "\n",
    "import random\n",
    "import numpy as np\n",
    "import matplotlib.pyplot as plt\n",
    "%matplotlib inline\n",
    "\n",
    "index = random.randint(0, len(X_train))\n",
    "image = X_train[index].squeeze()\n",
    "\n",
    "plt.figure(figsize=(1,1))\n",
    "plt.imshow(image, cmap='gray')\n",
    "print(y_train[index])\n",
    "print(signs.loc[y_train[index]][1])\n"
   ]
  },
  {
   "cell_type": "markdown",
   "metadata": {},
   "source": [
    "---\n",
    "## 3. Design a model architecture for the CNN.\n",
    "* 3.1. first we will import the modules that we need.\n",
    "* 3.2. Shuffle the training set for better learning\n",
    "* 3.3. Then, we will build our model as a function whose output will be the input of the softmax function \n",
    "* The final model consists of the following layers\n",
    "*  \n",
    "*  Input         \t\t( 32x32x1 Gray scale image ) \t\t\t\t\t \n",
    "*  Convolution 5x5    \t( 1x1 stride, VALID padding, outputs 28x28x6)\n",
    "*  RELU                \n",
    "*  Convolution 5x5\t\t( 1x1 stride, VALID padding, outputs 24x24x6)\n",
    "*  RELU\t\t\t\t\t\t\t\t\t\t\t\t\t\t\t\t\n",
    "*  Convolution 5x5\t\t( 1x1 stride, VALID padding, outputs 20x20x16)\n",
    "*  RELU\t\t\t\t\n",
    "*  Max pooling\t      \t( 2x2 stride,  outputs 10x10x16) \t\t\t\t\n",
    "*  Fully Connected\t    ( input=10x10x16\toutput=120)\t\t\t\t\n",
    "*  RELU\t\t\t\t\n",
    "*  Fully connected\t\t( input=120\t\t\toutput=84 )\n",
    "*  RELU\t\t\t\t\n",
    "*  Dropout\t\t\t\t( peak= 0.75 )\t\t\t\t\t\n",
    "*  Fully connected\t\t( input=84\t\t\toutput=43 )\n",
    "*  Softmax\t\t\t\t( Softmax cross entropy using one_hot_encoding ) \n",
    " \t\t\t\t\t\t\n",
    " \t\t\t\t\t\t\n"
   ]
  },
  {
   "cell_type": "code",
   "execution_count": 7,
   "metadata": {
    "collapsed": true
   },
   "outputs": [],
   "source": [
    "# 3.1. Import the modules that we need\n",
    "import tensorflow as tf\n",
    "from tensorflow.contrib.layers import flatten\n",
    "import cv2\n"
   ]
  },
  {
   "cell_type": "code",
   "execution_count": 8,
   "metadata": {
    "collapsed": true
   },
   "outputs": [],
   "source": [
    "# 3.2. Shuffle the trainig set for better learning\n",
    "from sklearn.utils import shuffle\n",
    "\n",
    "X_train, y_train = shuffle(X_train, y_train)\n"
   ]
  },
  {
   "cell_type": "code",
   "execution_count": 9,
   "metadata": {
    "collapsed": true
   },
   "outputs": [],
   "source": [
    "# 3.3. Build our model as a function\n",
    "def modelNet(x):    \n",
    "    # Arguments used for tf.truncated_normal, randomly defines variables for the weights and biases for each layer\n",
    "    \n",
    "    mu = 0\n",
    "    sigma = 0.1\n",
    "    \n",
    "    # Layer 1: Convolutional. Input = 32x32x1. Output = 28x28x6.\n",
    "    conv1_W = tf.Variable(tf.truncated_normal(shape=(5, 5, 1, 6), mean = mu, stddev = sigma))\n",
    "    conv1_b = tf.Variable(tf.zeros(6))\n",
    "    conv1   = tf.nn.conv2d(x, conv1_W, strides=[1, 1, 1, 1], padding='VALID') + conv1_b\n",
    "\n",
    "    # RELU: Activation.\n",
    "    conv1 = tf.nn.relu(conv1)\n",
    "    \n",
    "    # Layer 2: Convolutional. Input = 28x28x6. Output = 24x24x6.\n",
    "    conv2_W = tf.Variable(tf.truncated_normal(shape=(5, 5, 6, 6), mean = mu, stddev = sigma))\n",
    "    conv2_b = tf.Variable(tf.zeros(6))\n",
    "    conv2   = tf.nn.conv2d(conv1, conv2_W, strides=[1, 1, 1, 1], padding='VALID') + conv2_b\n",
    "\n",
    "    # RELU: Activation.\n",
    "    conv2 = tf.nn.relu(conv2)\n",
    "\n",
    "    \n",
    "    # Layer 3: Convolutional. Input= 24x24x6. Output = 20x20x16.\n",
    "    conv3_W = tf.Variable(tf.truncated_normal(shape=(5, 5, 6, 16), mean = mu, stddev = sigma))\n",
    "    conv3_b = tf.Variable(tf.zeros(16))\n",
    "    conv3   = tf.nn.conv2d(conv2, conv3_W, strides=[1, 1, 1, 1], padding='VALID') + conv3_b\n",
    "    \n",
    "    # RELU: Activation.\n",
    "    conv3 = tf.nn.relu(conv3)\n",
    "\n",
    "    # Pooling. Input = 20x20x16. Output = 10x10x16.\n",
    "    conv3 = tf.nn.max_pool(conv3, ksize=[1, 2, 2, 1], strides=[1, 2, 2, 1], padding='VALID')\n",
    "\n",
    "    # Flatten. Input = (10,10,16). Output = 10x10x16.\n",
    "    fc0   = flatten(conv3)\n",
    "    \n",
    "    # Layer 4: Fully Connected. Input = 10x10x16. Output = 120.\n",
    "    fc1_W = tf.Variable(tf.truncated_normal(shape=(10*10*16, 120), mean = mu, stddev = sigma))\n",
    "    fc1_b = tf.Variable(tf.zeros(120))\n",
    "    fc1   = tf.matmul(fc0, fc1_W) + fc1_b\n",
    "    \n",
    "    # RELU: Activation.\n",
    "    fc1    = tf.nn.relu(fc1)\n",
    "\n",
    "    # Layer 5: Fully Connected. Input = 120. Output = 84.\n",
    "    fc2_W  = tf.Variable(tf.truncated_normal(shape=(120, 84), mean = mu, stddev = sigma))\n",
    "    fc2_b  = tf.Variable(tf.zeros(84))\n",
    "    fc2    = tf.matmul(fc1, fc2_W) + fc2_b\n",
    "    \n",
    "    # RELU: Activation.\n",
    "    fc2    = tf.nn.relu(fc2)\n",
    "    \n",
    "    # Dropout\n",
    "    fc2 =tf.nn.dropout(fc2,p)\n",
    "    \n",
    "    # Layer 6: Fully Connected. Input = 84. Output = 43.\n",
    "    fc4_W  = tf.Variable(tf.truncated_normal(shape=(84, 43), mean = mu, stddev = sigma))\n",
    "    fc4_b  = tf.Variable(tf.zeros(43))\n",
    "    logits = tf.matmul(fc2, fc4_W) + fc4_b\n",
    "    \n",
    "    return logits\n"
   ]
  },
  {
   "cell_type": "markdown",
   "metadata": {},
   "source": [
    "---\n",
    "## 4. Train the model using the train data set and validate it using the validation data set.\n",
    "The model can be trained by following the next steps:\n",
    "* 4.1. Choosing the hyperparameters ( learning rate, epochs, batch size)\n",
    "* 4.2. Making placeholders for the input, the ouput and the dropout peak\n",
    "* 4.3. Setting up the loss function and the optimizer\n",
    "* 4.4. Definig an evaluation function to be used for cross validation\n",
    "* 4.5. Train the model and save the parameters"
   ]
  },
  {
   "cell_type": "code",
   "execution_count": 10,
   "metadata": {
    "collapsed": true
   },
   "outputs": [],
   "source": [
    "# 4.1. Choosing the hyperparameters\n",
    "EPOCHS = 20\n",
    "BATCH_SIZE = 128\n",
    "rate = 0.001"
   ]
  },
  {
   "cell_type": "code",
   "execution_count": 11,
   "metadata": {
    "collapsed": true
   },
   "outputs": [],
   "source": [
    "# 4.2. Placeholders for the input, the ouput and the dropout peak\n",
    "x = tf.placeholder(tf.float32, (None, 32, 32,1))\n",
    "y = tf.placeholder(tf.int32, (None))\n",
    "one_hot_y = tf.one_hot(y, 43)\n",
    "p=tf.placeholder(tf.float32)"
   ]
  },
  {
   "cell_type": "code",
   "execution_count": 12,
   "metadata": {
    "collapsed": true
   },
   "outputs": [],
   "source": [
    "# 4.3. Setting up the loss function and the optimizer\n",
    "logits = modelNet(x)\n",
    "cross_entropy = tf.nn.softmax_cross_entropy_with_logits(labels=one_hot_y, logits=logits)\n",
    "loss_operation = tf.reduce_mean(cross_entropy)\n",
    "optimizer = tf.train.AdamOptimizer(learning_rate = rate)\n",
    "training_operation = optimizer.minimize(loss_operation)\n"
   ]
  },
  {
   "cell_type": "code",
   "execution_count": 13,
   "metadata": {
    "collapsed": true
   },
   "outputs": [],
   "source": [
    "# 4.4. Definig an evaluation function to be used for cross validation\n",
    "correct_prediction = tf.equal(tf.argmax(logits, 1), tf.argmax(one_hot_y, 1))\n",
    "accuracy_operation = tf.reduce_mean(tf.cast(correct_prediction, tf.float32))\n",
    "saver = tf.train.Saver() #To save the model parameters (weights, biases)\n",
    "\n",
    "def evaluate(X_data, y_data):\n",
    "    num_examples = len(X_data)\n",
    "    total_accuracy = 0\n",
    "    sess = tf.get_default_session()\n",
    "    for offset in range(0, num_examples, BATCH_SIZE):\n",
    "        batch_x, batch_y = X_data[offset:offset+BATCH_SIZE], y_data[offset:offset+BATCH_SIZE]\n",
    "        accuracy = sess.run(accuracy_operation, feed_dict={x: batch_x, y: batch_y, p:1})\n",
    "        total_accuracy += (accuracy * len(batch_x))\n",
    "    return total_accuracy / num_examples"
   ]
  },
  {
   "cell_type": "code",
   "execution_count": 14,
   "metadata": {
    "collapsed": false
   },
   "outputs": [
    {
     "name": "stdout",
     "output_type": "stream",
     "text": [
      "Training...\n",
      "\n",
      "EPOCH 1 ...\n",
      "Validation Accuracy = 0.900\n",
      "\n",
      "EPOCH 2 ...\n",
      "Validation Accuracy = 0.932\n",
      "\n",
      "EPOCH 3 ...\n",
      "Validation Accuracy = 0.946\n",
      "\n",
      "EPOCH 4 ...\n",
      "Validation Accuracy = 0.951\n",
      "\n",
      "EPOCH 5 ...\n",
      "Validation Accuracy = 0.947\n",
      "\n",
      "EPOCH 6 ...\n",
      "Validation Accuracy = 0.949\n",
      "\n",
      "EPOCH 7 ...\n",
      "Validation Accuracy = 0.956\n",
      "\n",
      "EPOCH 8 ...\n",
      "Validation Accuracy = 0.955\n",
      "\n",
      "EPOCH 9 ...\n",
      "Validation Accuracy = 0.951\n",
      "\n",
      "EPOCH 10 ...\n",
      "Validation Accuracy = 0.957\n",
      "\n",
      "EPOCH 11 ...\n",
      "Validation Accuracy = 0.963\n",
      "\n",
      "EPOCH 12 ...\n",
      "Validation Accuracy = 0.954\n",
      "\n",
      "EPOCH 13 ...\n",
      "Validation Accuracy = 0.962\n",
      "\n",
      "EPOCH 14 ...\n",
      "Validation Accuracy = 0.960\n",
      "\n",
      "EPOCH 15 ...\n",
      "Validation Accuracy = 0.966\n",
      "\n",
      "EPOCH 16 ...\n",
      "Validation Accuracy = 0.957\n",
      "\n",
      "EPOCH 17 ...\n",
      "Validation Accuracy = 0.964\n",
      "\n",
      "EPOCH 18 ...\n",
      "Validation Accuracy = 0.962\n",
      "\n",
      "EPOCH 19 ...\n",
      "Validation Accuracy = 0.956\n",
      "\n",
      "EPOCH 20 ...\n",
      "Validation Accuracy = 0.964\n",
      "\n",
      "Model saved\n"
     ]
    }
   ],
   "source": [
    "with tf.Session() as sess:\n",
    "    sess.run(tf.global_variables_initializer())\n",
    "    num_examples = len(X_train)\n",
    "    print(\"Training...\")\n",
    "    print()\n",
    "    for i in range(EPOCHS):\n",
    "        X_train, y_train = shuffle(X_train, y_train)\n",
    "        for offset in range(0, num_examples, BATCH_SIZE):\n",
    "            end = offset + BATCH_SIZE\n",
    "            batch_x, batch_y = X_train[offset:end], y_train[offset:end]\n",
    "            sess.run(training_operation, feed_dict={x: batch_x, y: batch_y,p:0.75})            \n",
    "        # Validation\n",
    "        validation_accuracy = evaluate(X_validation, y_validation)\n",
    "        print(\"EPOCH {} ...\".format(i+1))\n",
    "        print(\"Validation Accuracy = {:.3f}\".format(validation_accuracy))\n",
    "        print()\n",
    "    \n",
    "    saver.save(sess, './modelnet')\n",
    "    print(\"Model saved\")\n",
    "        \n",
    "            \n",
    "        "
   ]
  },
  {
   "cell_type": "markdown",
   "metadata": {},
   "source": [
    "---\n",
    "## 5. Test the final model architecture on the test set.\n",
    "The saved model is restored an tested on the test set"
   ]
  },
  {
   "cell_type": "code",
   "execution_count": 14,
   "metadata": {
    "collapsed": false
   },
   "outputs": [
    {
     "name": "stdout",
     "output_type": "stream",
     "text": [
      "Test Accuracy = 0.944\n"
     ]
    }
   ],
   "source": [
    "with tf.Session() as sess:\n",
    "    saver.restore(sess, tf.train.latest_checkpoint('.'))\n",
    "\n",
    "    test_accuracy = evaluate(X_test, y_test)\n",
    "    print(\"Test Accuracy = {:.3f}\".format(test_accuracy))"
   ]
  },
  {
   "cell_type": "markdown",
   "metadata": {},
   "source": [
    "---\n",
    "## 6. Test the final model architecture on a new data set.\n",
    "The model is tested on a set of five images downloaded from the internet\n",
    "The five signs are represented first, then the softmax prediction.\n",
    "The title of every softmax subplot is the name of the sign with the highest probability."
   ]
  },
  {
   "cell_type": "code",
   "execution_count": 20,
   "metadata": {
    "collapsed": false
   },
   "outputs": [
    {
     "data": {
      "image/png": "[encoded data removed]",
      "text/plain": [
       "<matplotlib.figure.Figure at 0x7f9e38df6668>"
      ]
     },
     "metadata": {},
     "output_type": "display_data"
    }
   ],
   "source": [
    "# New images are appended in numpy array and shown.\n",
    "new_images=[]\n",
    "new_images.append(cv2.equalizeHist(cv2.cvtColor(cv2.resize(cv2.imread('./new_images/1.jpg'),(32,32)),cv2.COLOR_RGB2GRAY)))\n",
    "new_images.append(cv2.equalizeHist(cv2.cvtColor(cv2.resize(cv2.imread('./new_images/2.jpg'),(32,32)),cv2.COLOR_RGB2GRAY)))\n",
    "new_images.append(cv2.equalizeHist(cv2.cvtColor(cv2.resize(cv2.imread('./new_images/3.jpg'),(32,32)),cv2.COLOR_RGB2GRAY)))\n",
    "new_images.append(cv2.equalizeHist(cv2.cvtColor(cv2.resize(cv2.imread('./new_images/4.jpg'),(32,32)),cv2.COLOR_RGB2GRAY)))\n",
    "new_images.append(cv2.equalizeHist(cv2.cvtColor(cv2.resize(cv2.imread('./new_images/5.jpg'),(32,32)),cv2.COLOR_RGB2GRAY)))\n",
    "new_images.append(cv2.equalizeHist(cv2.cvtColor(cv2.resize(cv2.imread('./new_images/7.jpg'),(32,32)),cv2.COLOR_RGB2GRAY)))\n",
    "#new_images.append(cv2.equalizeHist(cv2.cvtColor(cv2.resize(cv2.imread('./new_images/8.jpg'),(32,32)),cv2.COLOR_RGB2GRAY)))\n",
    "\n",
    "#new_images.append(cv2.cvtColor(cv2.resize(cv2.imread('./new_images/6.png'),(32,32)),cv2.COLOR_RGB2GRAY))\n",
    "new_images=np.array(new_images).reshape(np.size(new_images,axis=0),32,32,1)\n",
    "#new_images=(new_images-np.mean(new_images))/np.std(new_images)\n",
    "#new_images=cv2.equalizeHist(new_images)\n",
    "for i in range (np.size(new_images,axis=0)):\n",
    "    plt.subplot(1,np.size(new_images,axis=0),i+1)\n",
    "    plt.subplots_adjust(0.1,2.1,3.1,5.1,wspace=1.5)\n",
    "    plt.imshow(new_images[i,:,:,0],cmap='gray')\n",
    "    \n",
    "\n",
    "new_labels=np.array([2,3,1,18,22,25])"
   ]
  },
  {
   "cell_type": "code",
   "execution_count": 21,
   "metadata": {
    "collapsed": false
   },
   "outputs": [],
   "source": [
    "plt.imsave('./new_images/1.png',new_images[0,:,:,0],cmap='gray')\n",
    "plt.imsave('./new_images/2.png',new_images[1,:,:,0],cmap='gray')\n",
    "plt.imsave('./new_images/3.png',new_images[2,:,:,0],cmap='gray')\n",
    "plt.imsave('./new_images/4.png',new_images[3,:,:,0],cmap='gray')\n",
    "plt.imsave('./new_images/5.png',new_images[4,:,:,0],cmap='gray')\n",
    "plt.imsave('./new_images/6.png',new_images[5,:,:,0],cmap='gray')\n"
   ]
  },
  {
   "cell_type": "code",
   "execution_count": 207,
   "metadata": {
    "collapsed": false
   },
   "outputs": [
    {
     "data": {
      "image/png": "[encoded data removed]",
      "text/plain": [
       "<matplotlib.figure.Figure at 0x7f31857c2c50>"
      ]
     },
     "metadata": {},
     "output_type": "display_data"
    }
   ],
   "source": [
    "# Softmax predicition is calculated then the results are plotted against the classes. the title of every subplot\n",
    "# is the class with the highest probability.\n",
    "prob=tf.nn.softmax(logits)\n",
    "prob5=tf.nn.top_k(prob,k=5)\n",
    "with tf.Session() as sess:\n",
    "    saver.restore(sess, tf.train.latest_checkpoint('.'))\n",
    "    sess = tf.get_default_session()\n",
    "    mylogits=sess.run(prob,feed_dict={x:new_images, p:1})\n",
    "    logits5=sess.run(prob5,feed_dict={x:new_images, p:1})\n",
    "    \n",
    "\n",
    "for i in range (np.size(new_images,axis=0)):\n",
    "    plt.subplot(1,np.size(new_images,axis=0),i+1)\n",
    "    plt.subplots_adjust(0.1,2.1,2.1,3.1,wspace=1.5)\n",
    "    title=logits5.indices[i][0]\n",
    "    plt.title(signs.loc[title][1])\n",
    "    plt.plot(mylogits[i,:])\n",
    "    plt.xlabel(\"Classes\")\n",
    "    plt.ylabel(\"SoftMAx prediction\")\n",
    "    \n"
   ]
  },
  {
   "cell_type": "code",
   "execution_count": 208,
   "metadata": {
    "collapsed": false
   },
   "outputs": [
    {
     "name": "stdout",
     "output_type": "stream",
     "text": [
      "Test Accuracy = 0.833\n"
     ]
    }
   ],
   "source": [
    "#Test Accuracy on the new set\n",
    "with tf.Session() as sess:\n",
    "    saver.restore(sess,tf.train.latest_checkpoint('.'))\n",
    "    test_accuracy = evaluate(new_images, new_labels)\n",
    "    print(\"Test Accuracy = {:.3f}\".format(test_accuracy))\n",
    "    "
   ]
  }
 ],
 "metadata": {
  "anaconda-cloud": {},
  "kernelspec": {
   "display_name": "Python [conda env:carnd-term1]",
   "language": "python",
   "name": "conda-env-carnd-term1-py"
  },
  "language_info": {
   "codemirror_mode": {
    "name": "ipython",
    "version": 3
   },
   "file_extension": ".py",
   "mimetype": "text/x-python",
   "name": "python",
   "nbconvert_exporter": "python",
   "pygments_lexer": "ipython3",
   "version": "3.5.2"
  }
 },
 "nbformat": 4,
 "nbformat_minor": 1
}
